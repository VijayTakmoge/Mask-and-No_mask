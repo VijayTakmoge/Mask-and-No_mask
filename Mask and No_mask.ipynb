{
 "cells": [
  {
   "cell_type": "markdown",
   "id": "726a0e2b",
   "metadata": {},
   "source": [
    "\n",
    "<p style=\"background-color:purple; font-family:newtimeroman; color:#FFF9ED; font-size:200%; text-align:center; border-radius:20px; padding:20px;\"><strong>Mask & Nomask -CNN classification.</strong></p>\n"
   ]
  },
  {
   "cell_type": "markdown",
   "id": "dad40a76",
   "metadata": {},
   "source": [
    "\n",
    "<a href=\"#toc\" class=\"btn btn-primary btn-sm\" role=\"button\" aria-pressed=\"true\" \n",
    "style=\"color:black; background-color:#dfa8e4; font-size: 16px; border-width: 2px; font-weight: bold;\" data-toggle=\"popover\"><span style=\"font-size: 20px;\">AIM : </span>\n",
    "\n",
    "- The aim of the project is to use CNN and Deep learning techniques to automatically classify Image Data\n",
    "- documents related to images face, leveraging a dataset of image data.\n",
    "- This allows the system to adapt to evolving faces image as mask and no mask."
   ]
  },
  {
   "cell_type": "code",
   "execution_count": null,
   "id": "42294a6a",
   "metadata": {},
   "outputs": [],
   "source": []
  },
  {
   "cell_type": "markdown",
   "id": "6832e476",
   "metadata": {},
   "source": [
    "<a id=\"2\"></a>\n",
    "## <p style=\"background-color:#B61151; font-family:newtimeroman; color:#FFF9ED; font-size:150%; text-align:center; border-radius:10px 10px;\"> LIBRARIES NEEDED IN THE STUDY<p>\n"
   ]
  },
  {
   "cell_type": "code",
   "execution_count": null,
   "id": "812be4d3",
   "metadata": {},
   "outputs": [],
   "source": [
    "import pandas as pd\n",
    "import numpy as np\n",
    "import matplotlib.pyplot as plt\n",
    "import cv2\n",
    "import tensorflow as tf\n",
    "import keras\n",
    "from keras.models import Sequential\n",
    "from keras.layers import Conv2D,MaxPool2D,Flatten,Dense,Dropout\n",
    "from tensorflow.keras.utils import to_categorical\n",
    "import os"
   ]
  },
  {
   "cell_type": "markdown",
   "id": "111b713e",
   "metadata": {},
   "source": [
    "\n",
    "<a href=\"#toc\" class=\"btn btn-primary btn-sm\" role=\"button\" aria-pressed=\"true\" \n",
    "style=\"color:black; background-color:#dfa8e4; font-size: 16px; border-width: 2px; font-weight: bold;\" data-toggle=\"popover\">\n",
    "<span style=\"font-size: 20px;\">CNN</span></a>\n",
    "\n",
    "###  In a project context, you could succinctly define CNN as \"the branch of artificial intelligence (AI)focused on enabling computers to understand,interpret, human Image.\""
   ]
  },
  {
   "cell_type": "code",
   "execution_count": 2,
   "id": "7d13fb2e",
   "metadata": {},
   "outputs": [],
   "source": [
    "path1=r'D:\\dataset'\n",
    "cate=['with_mask','without_mask']\n",
    "image_size=200\n",
    "input_image1=[]\n",
    "for i in cate:\n",
    "    folders=os.path.join(path1,i)\n",
    "    label=cate.index(i)# tell software which image is cat and which one is dog\n",
    "    for image in os.listdir(folders):\n",
    "        image_path=os.path.join(folders,image)\n",
    "        image_array=cv2.imread(image_path) # using cv2 iam reading the image and storing in\n",
    "        image_array=cv2.resize(image_array,(image_size,image_size))\n",
    "        input_image1.append([image_array,label ])\n",
    "    \n",
    "        \n",
    "    \n"
   ]
  },
  {
   "cell_type": "code",
   "execution_count": 3,
   "id": "2f5daebf",
   "metadata": {},
   "outputs": [
    {
     "data": {
      "text/plain": [
       "440"
      ]
     },
     "execution_count": 3,
     "metadata": {},
     "output_type": "execute_result"
    }
   ],
   "source": [
    "len(input_image1)"
   ]
  },
  {
   "cell_type": "code",
   "execution_count": 4,
   "id": "a8f56645",
   "metadata": {},
   "outputs": [],
   "source": [
    "x=[]\n",
    "y=[]\n",
    "for x_values,labels in input_image1:\n",
    "    x.append(x_values)\n",
    "    y.append(labels)"
   ]
  },
  {
   "cell_type": "code",
   "execution_count": 5,
   "id": "215cf58d",
   "metadata": {},
   "outputs": [],
   "source": [
    "x=np.array(x)\n",
    "y=np.array(y)"
   ]
  },
  {
   "cell_type": "code",
   "execution_count": 6,
   "id": "f8ee466c",
   "metadata": {},
   "outputs": [],
   "source": [
    "x=x/255"
   ]
  },
  {
   "cell_type": "code",
   "execution_count": 7,
   "id": "fd8d526a",
   "metadata": {},
   "outputs": [],
   "source": [
    "from sklearn.model_selection import train_test_split\n",
    "x_train,x_test,y_train,y_test=train_test_split(x,y,test_size=.2)"
   ]
  },
  {
   "cell_type": "code",
   "execution_count": 8,
   "id": "232d4a42",
   "metadata": {},
   "outputs": [
    {
     "name": "stdout",
     "output_type": "stream",
     "text": [
      "WARNING:tensorflow:From C:\\Users\\Vijay\\anaconda3\\Lib\\site-packages\\keras\\src\\backend.py:873: The name tf.get_default_graph is deprecated. Please use tf.compat.v1.get_default_graph instead.\n",
      "\n",
      "WARNING:tensorflow:From C:\\Users\\Vijay\\anaconda3\\Lib\\site-packages\\keras\\src\\layers\\pooling\\max_pooling2d.py:161: The name tf.nn.max_pool is deprecated. Please use tf.nn.max_pool2d instead.\n",
      "\n"
     ]
    }
   ],
   "source": [
    "model = Sequential()\n",
    "model.add(Conv2D(filters=16, kernel_size=(3, 3), activation='relu',))\n",
    "model.add(MaxPool2D(pool_size=(2, 2)))\n",
    "\n",
    "model.add(Flatten())  \n",
    "model.add(Dense(128, activation='relu',input_shape=x.shape[1:]))\n",
    "model.add(Dropout(0.2))\n",
    "model.add(Dense(2,activation='softmax'))"
   ]
  },
  {
   "cell_type": "code",
   "execution_count": 9,
   "id": "c9a26de0",
   "metadata": {},
   "outputs": [
    {
     "name": "stdout",
     "output_type": "stream",
     "text": [
      "WARNING:tensorflow:From C:\\Users\\Vijay\\anaconda3\\Lib\\site-packages\\keras\\src\\optimizers\\__init__.py:309: The name tf.train.Optimizer is deprecated. Please use tf.compat.v1.train.Optimizer instead.\n",
      "\n"
     ]
    }
   ],
   "source": [
    "model.compile(optimizer='adam',loss='sparse_categorical_crossentropy',metrics=['accuracy'])\n"
   ]
  },
  {
   "cell_type": "code",
   "execution_count": 10,
   "id": "a65a2f9c",
   "metadata": {},
   "outputs": [
    {
     "name": "stdout",
     "output_type": "stream",
     "text": [
      "Epoch 1/5\n",
      "WARNING:tensorflow:From C:\\Users\\Vijay\\anaconda3\\Lib\\site-packages\\keras\\src\\utils\\tf_utils.py:492: The name tf.ragged.RaggedTensorValue is deprecated. Please use tf.compat.v1.ragged.RaggedTensorValue instead.\n",
      "\n",
      "WARNING:tensorflow:From C:\\Users\\Vijay\\anaconda3\\Lib\\site-packages\\keras\\src\\engine\\base_layer_utils.py:384: The name tf.executing_eagerly_outside_functions is deprecated. Please use tf.compat.v1.executing_eagerly_outside_functions instead.\n",
      "\n",
      "18/18 [==============================] - 4s 187ms/step - loss: 15.4990 - accuracy: 0.5242 - val_loss: 0.0000e+00 - val_accuracy: 1.0000\n",
      "Epoch 2/5\n",
      "18/18 [==============================] - 3s 178ms/step - loss: 1.6192 - accuracy: 0.7607 - val_loss: 5.5965e-04 - val_accuracy: 1.0000\n",
      "Epoch 3/5\n",
      "18/18 [==============================] - 3s 179ms/step - loss: 0.6781 - accuracy: 0.8348 - val_loss: 0.0211 - val_accuracy: 1.0000\n",
      "Epoch 4/5\n",
      "18/18 [==============================] - 3s 177ms/step - loss: 0.2584 - accuracy: 0.9202 - val_loss: 0.0071 - val_accuracy: 1.0000\n",
      "Epoch 5/5\n",
      "18/18 [==============================] - 3s 177ms/step - loss: 0.2232 - accuracy: 0.9145 - val_loss: 0.0226 - val_accuracy: 1.0000\n"
     ]
    },
    {
     "data": {
      "text/plain": [
       "<keras.src.callbacks.History at 0x1878416b490>"
      ]
     },
     "execution_count": 10,
     "metadata": {},
     "output_type": "execute_result"
    }
   ],
   "source": [
    "model.fit(x_train,y_train,epochs=5,batch_size=20,validation_split=0.002)"
   ]
  },
  {
   "cell_type": "code",
   "execution_count": 11,
   "id": "76a0e00a",
   "metadata": {},
   "outputs": [
    {
     "data": {
      "text/html": [
       "<div>\n",
       "<style scoped>\n",
       "    .dataframe tbody tr th:only-of-type {\n",
       "        vertical-align: middle;\n",
       "    }\n",
       "\n",
       "    .dataframe tbody tr th {\n",
       "        vertical-align: top;\n",
       "    }\n",
       "\n",
       "    .dataframe thead th {\n",
       "        text-align: right;\n",
       "    }\n",
       "</style>\n",
       "<table border=\"1\" class=\"dataframe\">\n",
       "  <thead>\n",
       "    <tr style=\"text-align: right;\">\n",
       "      <th></th>\n",
       "      <th>loss</th>\n",
       "      <th>accuracy</th>\n",
       "      <th>val_loss</th>\n",
       "      <th>val_accuracy</th>\n",
       "    </tr>\n",
       "  </thead>\n",
       "  <tbody>\n",
       "    <tr>\n",
       "      <th>0</th>\n",
       "      <td>15.498975</td>\n",
       "      <td>0.524217</td>\n",
       "      <td>0.000000</td>\n",
       "      <td>1.0</td>\n",
       "    </tr>\n",
       "    <tr>\n",
       "      <th>1</th>\n",
       "      <td>1.619210</td>\n",
       "      <td>0.760684</td>\n",
       "      <td>0.000560</td>\n",
       "      <td>1.0</td>\n",
       "    </tr>\n",
       "    <tr>\n",
       "      <th>2</th>\n",
       "      <td>0.678116</td>\n",
       "      <td>0.834758</td>\n",
       "      <td>0.021140</td>\n",
       "      <td>1.0</td>\n",
       "    </tr>\n",
       "    <tr>\n",
       "      <th>3</th>\n",
       "      <td>0.258434</td>\n",
       "      <td>0.920228</td>\n",
       "      <td>0.007102</td>\n",
       "      <td>1.0</td>\n",
       "    </tr>\n",
       "    <tr>\n",
       "      <th>4</th>\n",
       "      <td>0.223169</td>\n",
       "      <td>0.914530</td>\n",
       "      <td>0.022580</td>\n",
       "      <td>1.0</td>\n",
       "    </tr>\n",
       "  </tbody>\n",
       "</table>\n",
       "</div>"
      ],
      "text/plain": [
       "        loss  accuracy  val_loss  val_accuracy\n",
       "0  15.498975  0.524217  0.000000           1.0\n",
       "1   1.619210  0.760684  0.000560           1.0\n",
       "2   0.678116  0.834758  0.021140           1.0\n",
       "3   0.258434  0.920228  0.007102           1.0\n",
       "4   0.223169  0.914530  0.022580           1.0"
      ]
     },
     "execution_count": 11,
     "metadata": {},
     "output_type": "execute_result"
    }
   ],
   "source": [
    "df=pd.DataFrame(model.history.history)\n",
    "df"
   ]
  },
  {
   "cell_type": "code",
   "execution_count": 12,
   "id": "10c779a9",
   "metadata": {},
   "outputs": [
    {
     "data": {
      "image/png": "[encoded data removed]",
      "text/plain": [
       "<Figure size 1200x700 with 1 Axes>"
      ]
     },
     "metadata": {},
     "output_type": "display_data"
    }
   ],
   "source": [
    "plt.figure(figsize=(12,7))\n",
    "plt.plot(df.loss,color='red',label='Train',marker=\"*\")\n",
    "plt.plot(df.val_loss,color='blue',label='Validation',marker=\"*\")\n",
    "plt.legend();"
   ]
  },
  {
   "cell_type": "code",
   "execution_count": 13,
   "id": "4c539fda",
   "metadata": {},
   "outputs": [
    {
     "name": "stdout",
     "output_type": "stream",
     "text": [
      "3/3 [==============================] - 0s 30ms/step\n"
     ]
    },
    {
     "data": {
      "text/plain": [
       "array([[9.40613210e-01, 5.93868047e-02],\n",
       "       [9.87353861e-01, 1.26461331e-02],\n",
       "       [9.97579396e-01, 2.42067571e-03],\n",
       "       [1.54626638e-01, 8.45373392e-01],\n",
       "       [9.55495536e-01, 4.45044674e-02],\n",
       "       [9.48774636e-01, 5.12253605e-02],\n",
       "       [9.96156991e-01, 3.84300016e-03],\n",
       "       [8.50750566e-01, 1.49249494e-01],\n",
       "       [5.78534268e-02, 9.42146540e-01],\n",
       "       [9.85657871e-01, 1.43421600e-02],\n",
       "       [5.00977598e-02, 9.49902296e-01],\n",
       "       [9.77091730e-01, 2.29083225e-02],\n",
       "       [8.01719069e-01, 1.98280886e-01],\n",
       "       [1.25882581e-01, 8.74117434e-01],\n",
       "       [6.27403930e-02, 9.37259555e-01],\n",
       "       [5.88930786e-01, 4.11069155e-01],\n",
       "       [7.69005865e-02, 9.23099458e-01],\n",
       "       [9.94791269e-01, 5.20873116e-03],\n",
       "       [5.26001930e-01, 4.73998129e-01],\n",
       "       [1.32022530e-01, 8.67977440e-01],\n",
       "       [9.92447019e-01, 7.55298324e-03],\n",
       "       [3.16482298e-02, 9.68351781e-01],\n",
       "       [1.14106156e-01, 8.85893762e-01],\n",
       "       [2.58350782e-02, 9.74164903e-01],\n",
       "       [4.31472182e-01, 5.68527758e-01],\n",
       "       [2.45298490e-01, 7.54701555e-01],\n",
       "       [6.18587658e-02, 9.38141167e-01],\n",
       "       [9.99998808e-01, 1.16416913e-06],\n",
       "       [2.91607201e-01, 7.08392859e-01],\n",
       "       [3.10741127e-01, 6.89258814e-01],\n",
       "       [1.15634864e-02, 9.88436580e-01],\n",
       "       [3.71556431e-02, 9.62844312e-01],\n",
       "       [5.01556471e-02, 9.49844301e-01],\n",
       "       [9.59108770e-01, 4.08912040e-02],\n",
       "       [2.55849659e-01, 7.44150400e-01],\n",
       "       [1.10075809e-01, 8.89924228e-01],\n",
       "       [9.64031518e-01, 3.59684341e-02],\n",
       "       [5.52765787e-01, 4.47234243e-01],\n",
       "       [9.75971162e-01, 2.40288153e-02],\n",
       "       [4.87716228e-01, 5.12283802e-01],\n",
       "       [9.70419288e-01, 2.95807086e-02],\n",
       "       [1.87574998e-01, 8.12424958e-01],\n",
       "       [6.61621764e-02, 9.33837771e-01],\n",
       "       [9.13328171e-01, 8.66718367e-02],\n",
       "       [9.96454000e-01, 3.54598253e-03],\n",
       "       [1.27003985e-02, 9.87299621e-01],\n",
       "       [9.94104922e-01, 5.89510286e-03],\n",
       "       [9.78226840e-01, 2.17731409e-02],\n",
       "       [1.43113166e-01, 8.56886804e-01],\n",
       "       [2.48215392e-01, 7.51784623e-01],\n",
       "       [2.55962647e-02, 9.74403799e-01],\n",
       "       [8.32719743e-01, 1.67280242e-01],\n",
       "       [7.18226947e-04, 9.99281824e-01],\n",
       "       [1.03798090e-02, 9.89620268e-01],\n",
       "       [1.56173669e-03, 9.98438299e-01],\n",
       "       [5.90248048e-01, 4.09751952e-01],\n",
       "       [3.88649963e-02, 9.61135030e-01],\n",
       "       [9.15767729e-01, 8.42323527e-02],\n",
       "       [5.53981066e-01, 4.46018964e-01],\n",
       "       [9.56299543e-01, 4.37005013e-02],\n",
       "       [1.05172880e-01, 8.94827127e-01],\n",
       "       [9.77328598e-01, 2.26713941e-02],\n",
       "       [9.70792592e-01, 2.92073935e-02],\n",
       "       [9.83915508e-01, 1.60844885e-02],\n",
       "       [1.43142054e-02, 9.85685825e-01],\n",
       "       [9.96024609e-01, 3.97536345e-03],\n",
       "       [9.97246146e-01, 2.75385333e-03],\n",
       "       [9.96817052e-01, 3.18298745e-03],\n",
       "       [9.29640472e-01, 7.03595281e-02],\n",
       "       [2.11970359e-02, 9.78802979e-01],\n",
       "       [2.69593000e-01, 7.30407059e-01],\n",
       "       [9.61990952e-01, 3.80091071e-02],\n",
       "       [8.81031394e-01, 1.18968636e-01],\n",
       "       [9.59616005e-01, 4.03839536e-02],\n",
       "       [1.14488732e-02, 9.88551199e-01],\n",
       "       [8.51757765e-01, 1.48242250e-01],\n",
       "       [5.57510138e-01, 4.42489862e-01],\n",
       "       [9.67973590e-01, 3.20264436e-02],\n",
       "       [2.41343543e-01, 7.58656502e-01],\n",
       "       [8.44178617e-01, 1.55821413e-01],\n",
       "       [1.75128043e-01, 8.24871957e-01],\n",
       "       [9.80157554e-01, 1.98424440e-02],\n",
       "       [2.82861978e-01, 7.17137933e-01],\n",
       "       [9.84882653e-01, 1.51173621e-02],\n",
       "       [3.04958280e-02, 9.69504178e-01],\n",
       "       [9.99493837e-01, 5.06179756e-04],\n",
       "       [9.49648917e-01, 5.03510647e-02],\n",
       "       [7.95966804e-01, 2.04033270e-01]], dtype=float32)"
      ]
     },
     "execution_count": 13,
     "metadata": {},
     "output_type": "execute_result"
    }
   ],
   "source": [
    "pred=model.predict(x_test)\n",
    "pred"
   ]
  },
  {
   "cell_type": "code",
   "execution_count": 14,
   "id": "29deb422",
   "metadata": {},
   "outputs": [],
   "source": [
    "pred_classes=pred.argmax(axis=1)"
   ]
  },
  {
   "cell_type": "code",
   "execution_count": 15,
   "id": "ec508a55",
   "metadata": {},
   "outputs": [],
   "source": [
    "from sklearn.metrics import confusion_matrix,accuracy_score"
   ]
  },
  {
   "cell_type": "code",
   "execution_count": 16,
   "id": "b5cddd44",
   "metadata": {},
   "outputs": [
    {
     "data": {
      "text/plain": [
       "array([[42,  5],\n",
       "       [ 6, 35]], dtype=int64)"
      ]
     },
     "execution_count": 16,
     "metadata": {},
     "output_type": "execute_result"
    }
   ],
   "source": [
    "from sklearn.metrics import confusion_matrix,classification_report\n",
    "cm=confusion_matrix(y_test,pred_classes)\n",
    "cm"
   ]
  },
  {
   "cell_type": "code",
   "execution_count": 17,
   "id": "fa759d20",
   "metadata": {},
   "outputs": [
    {
     "name": "stdout",
     "output_type": "stream",
     "text": [
      "              precision    recall  f1-score   support\n",
      "\n",
      "           0       0.88      0.89      0.88        47\n",
      "           1       0.88      0.85      0.86        41\n",
      "\n",
      "    accuracy                           0.88        88\n",
      "   macro avg       0.88      0.87      0.87        88\n",
      "weighted avg       0.88      0.88      0.87        88\n",
      "\n"
     ]
    }
   ],
   "source": [
    "print(classification_report(y_test,pred_classes))"
   ]
  },
  {
   "cell_type": "code",
   "execution_count": 18,
   "id": "cd44b11a",
   "metadata": {},
   "outputs": [
    {
     "data": {
      "text/plain": [
       "0.875"
      ]
     },
     "execution_count": 18,
     "metadata": {},
     "output_type": "execute_result"
    }
   ],
   "source": [
    "accuracy_score(y_test,pred_classes)"
   ]
  },
  {
   "cell_type": "code",
   "execution_count": null,
   "id": "d5c450ca",
   "metadata": {},
   "outputs": [],
   "source": []
  },
  {
   "cell_type": "code",
   "execution_count": 19,
   "id": "ddd095f8",
   "metadata": {},
   "outputs": [],
   "source": [
    "# save Model"
   ]
  },
  {
   "cell_type": "code",
   "execution_count": 20,
   "id": "c75e0bf0",
   "metadata": {},
   "outputs": [
    {
     "name": "stderr",
     "output_type": "stream",
     "text": [
      "C:\\Users\\Vijay\\anaconda3\\Lib\\site-packages\\keras\\src\\engine\\training.py:3103: UserWarning: You are saving your model as an HDF5 file via `model.save()`. This file format is considered legacy. We recommend using instead the native Keras format, e.g. `model.save('my_model.keras')`.\n",
      "  saving_api.save_model(\n"
     ]
    }
   ],
   "source": [
    "model.save('mask_no_mask_04march.h5')"
   ]
  },
  {
   "cell_type": "code",
   "execution_count": 21,
   "id": "8e1472c8",
   "metadata": {},
   "outputs": [],
   "source": [
    "from keras.models import load_model"
   ]
  },
  {
   "cell_type": "code",
   "execution_count": 22,
   "id": "85cafd49",
   "metadata": {},
   "outputs": [],
   "source": [
    "modelmask=load_model('mask_no_mask_04march.h5')"
   ]
  },
  {
   "cell_type": "code",
   "execution_count": 23,
   "id": "c2f95d04",
   "metadata": {},
   "outputs": [
    {
     "name": "stdout",
     "output_type": "stream",
     "text": [
      "3/3 [==============================] - 0s 29ms/step\n"
     ]
    }
   ],
   "source": [
    "pred_prob=modelmask.predict(x_test)"
   ]
  },
  {
   "cell_type": "code",
   "execution_count": 24,
   "id": "27f4cd0b",
   "metadata": {},
   "outputs": [
    {
     "data": {
      "text/plain": [
       "array([0, 0, 0, 1, 0, 0, 0, 0, 1, 0, 1, 0, 0, 1, 1, 0, 1, 0, 0, 1, 0, 1,\n",
       "       1, 1, 1, 1, 1, 0, 1, 1, 1, 1, 1, 0, 1, 1, 0, 0, 0, 1, 0, 1, 1, 0,\n",
       "       0, 1, 0, 0, 1, 1, 1, 0, 1, 1, 1, 0, 1, 0, 0, 0, 1, 0, 0, 0, 1, 0,\n",
       "       0, 0, 0, 1, 1, 0, 0, 0, 1, 0, 0, 0, 1, 0, 1, 0, 1, 0, 1, 0, 0, 0],\n",
       "      dtype=int64)"
      ]
     },
     "execution_count": 24,
     "metadata": {},
     "output_type": "execute_result"
    }
   ],
   "source": [
    "pred_prob.argmax(axis=1)"
   ]
  },
  {
   "cell_type": "code",
   "execution_count": 25,
   "id": "14d03658",
   "metadata": {},
   "outputs": [
    {
     "name": "stderr",
     "output_type": "stream",
     "text": [
      "<>:3: SyntaxWarning: \"is\" with a literal. Did you mean \"==\"?\n",
      "<>:3: SyntaxWarning: \"is\" with a literal. Did you mean \"==\"?\n",
      "C:\\Users\\Vijay\\AppData\\Local\\Temp\\ipykernel_11060\\3321755764.py:3: SyntaxWarning: \"is\" with a literal. Did you mean \"==\"?\n",
      "  if faces is ():\n"
     ]
    }
   ],
   "source": [
    "def  face_extractor(img):\n",
    "    faces = face_cascade.detectMultiScale(img, scaleFactor = 1.5 , minNeighbors = 5)\n",
    "    if faces is ():\n",
    "        return None\n",
    "    \n",
    "    \n",
    "    for (x ,y , w, h)  in faces:\n",
    "        cv2.rectangle(img , (x,y) , (x+w , y+h), (0,0, 255) , 2)\n",
    "        roi =  img[y :y+h , x:x+w]\n",
    "    \n",
    "    return roi"
   ]
  },
  {
   "cell_type": "code",
   "execution_count": 27,
   "id": "7151f0f9",
   "metadata": {},
   "outputs": [
    {
     "ename": "NameError",
     "evalue": "name 'Image' is not defined",
     "output_type": "error",
     "traceback": [
      "\u001b[1;31m---------------------------------------------------------------------------\u001b[0m",
      "\u001b[1;31mNameError\u001b[0m                                 Traceback (most recent call last)",
      "Cell \u001b[1;32mIn[27], line 11\u001b[0m\n\u001b[0;32m      9\u001b[0m \u001b[38;5;28;01mif\u001b[39;00m \u001b[38;5;28mtype\u001b[39m(face) \u001b[38;5;129;01mis\u001b[39;00m np\u001b[38;5;241m.\u001b[39mndarray:\n\u001b[0;32m     10\u001b[0m     face \u001b[38;5;241m=\u001b[39m cv2\u001b[38;5;241m.\u001b[39mresize(face , (\u001b[38;5;241m200\u001b[39m,\u001b[38;5;241m200\u001b[39m)) \u001b[38;5;66;03m# based on the way u have build the cnn model\u001b[39;00m\n\u001b[1;32m---> 11\u001b[0m     im \u001b[38;5;241m=\u001b[39m Image\u001b[38;5;241m.\u001b[39mfromarray(face , \u001b[38;5;124m'\u001b[39m\u001b[38;5;124mRGB\u001b[39m\u001b[38;5;124m'\u001b[39m)\n\u001b[0;32m     14\u001b[0m     img_array \u001b[38;5;241m=\u001b[39m np\u001b[38;5;241m.\u001b[39marray(im)\n\u001b[0;32m     16\u001b[0m     img_array \u001b[38;5;241m=\u001b[39m np\u001b[38;5;241m.\u001b[39mexpand_dims(img_array ,  axis \u001b[38;5;241m=\u001b[39m \u001b[38;5;241m0\u001b[39m)\n",
      "\u001b[1;31mNameError\u001b[0m: name 'Image' is not defined"
     ]
    }
   ],
   "source": [
    "face_cascade =  cv2.CascadeClassifier(r\"C:\\Users\\Vijay\\OneDrive\\Documents\\Open cv\\haarcascade_frontalface_default.xml\")\n",
    "model = load_model('mask_no_mask_04march.h5')  # name of m y model---creted after CNN\n",
    "\n",
    "video_capture =cv2.VideoCapture(0) # front camera\n",
    "while True:\n",
    "    ret,frame = video_capture.read()\n",
    "    \n",
    "    face = face_extractor(frame)\n",
    "    if type(face) is np.ndarray:\n",
    "        face = cv2.resize(face , (200,200)) # based on the way u have build the cnn model\n",
    "        im = Image.fromarray(face , 'RGB')\n",
    "        \n",
    "        \n",
    "        img_array = np.array(im)\n",
    "        \n",
    "        img_array = np.expand_dims(img_array ,  axis = 0)\n",
    "        pred = model.predict(img_array)\n",
    "        print(pred)\n",
    "        \n",
    "        \n",
    "        name = \"None Matching\"\n",
    "\n",
    "        if pred[0][0]  > .5:\n",
    "            name =\"Masked\"\n",
    "        elif pred[0][1]  > .5:\n",
    "            name = 'Mask is not there , Put on the mask' \n",
    "        cv2.putText(frame ,name , (75 , 75) , cv2.FONT_HERSHEY_COMPLEX , 1 , (255 , 0, 0) , 2)    \n",
    "    else:\n",
    "        cv2.putText(frame ,\"Face not found\" , (75 , 75 ) , cv2.FONT_HERSHEY_COMPLEX ,1 , (255 , 0, 0) , 2)\n",
    "    cv2.imshow('Video' , frame)    \n",
    "        \n",
    "    if cv2.waitKey(20) & 0xff == ord('q') : \n",
    "        break\n",
    "     \n",
    "video_capture.release()\n",
    "cv2.destroyAllWindows()\n",
    "        "
   ]
  },
  {
   "cell_type": "code",
   "execution_count": null,
   "id": "f66495f1",
   "metadata": {},
   "outputs": [],
   "source": []
  },
  {
   "cell_type": "markdown",
   "id": "40341378",
   "metadata": {},
   "source": [
    "# CONCLUSION\n",
    "- **Analyzing and classifying these types of image data can provide valuable insights for\n",
    "face Recognisation professionals, researchers, and facilitating better understanding,and management of and identify.\n",
    "-->Mask,No_Mask**"
   ]
  },
  {
   "cell_type": "code",
   "execution_count": null,
   "id": "bb224ca0",
   "metadata": {},
   "outputs": [],
   "source": []
  },
  {
   "cell_type": "markdown",
   "id": "367db034",
   "metadata": {},
   "source": [
    "<p style=\"background-color:purple; font-family:newtimeroman; color:#FFF9ED; font-size:200%; text-align:center; border-radius:20px; padding:20px;\"><strong>Thank You :)</strong></p>\n"
   ]
  },
  {
   "cell_type": "code",
   "execution_count": null,
   "id": "4da8b11a",
   "metadata": {},
   "outputs": [],
   "source": []
  }
 ],
 "metadata": {
  "kernelspec": {
   "display_name": "Python 3 (ipykernel)",
   "language": "python",
   "name": "python3"
  },
  "language_info": {
   "codemirror_mode": {
    "name": "ipython",
    "version": 3
   },
   "file_extension": ".py",
   "mimetype": "text/x-python",
   "name": "python",
   "nbconvert_exporter": "python",
   "pygments_lexer": "ipython3",
   "version": "3.11.4"
  }
 },
 "nbformat": 4,
 "nbformat_minor": 5
}
